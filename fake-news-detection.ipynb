{
  "nbformat": 4,
  "nbformat_minor": 0,
  "metadata": {
    "colab": {
      "provenance": []
    },
    "kernelspec": {
      "name": "python3",
      "display_name": "Python 3"
    },
    "language_info": {
      "name": "python"
    }
  },
  "cells": [
    {
      "cell_type": "code",
      "execution_count": null,
      "metadata": {
        "id": "rTS0P4zCnYy5"
      },
      "outputs": [],
      "source": [
        "import pandas as pd\n",
        "import numpy as np\n",
        "import seaborn as sns\n",
        "from sklearn.model_selection import train_test_split\n",
        "import matplotlib.pyplot as plt\n",
        "from sklearn.metrics import accuracy_score\n",
        "from sklearn.metrics import classification_report\n",
        "import re\n",
        "import string"
      ]
    },
    {
      "cell_type": "markdown",
      "source": [
        "creating 2 variables one is for fakenews and another one is for true news\n"
      ],
      "metadata": {
        "id": "I3iP6QWKoWus"
      }
    },
    {
      "cell_type": "code",
      "source": [
        "fakedata=pd.read_csv(\"/content/Fake.csv\")\n",
        "truedata=pd.read_csv(\"/content/True.csv\")"
      ],
      "metadata": {
        "id": "OsZLyTneocsl"
      },
      "execution_count": null,
      "outputs": []
    },
    {
      "cell_type": "code",
      "source": [
        " fakedata.head()"
      ],
      "metadata": {
        "id": "DKIEIJuLod0l"
      },
      "execution_count": null,
      "outputs": []
    },
    {
      "cell_type": "code",
      "source": [
        "truedata.head()"
      ],
      "metadata": {
        "id": "zpZK3mn_od93"
      },
      "execution_count": null,
      "outputs": []
    },
    {
      "cell_type": "code",
      "source": [
        "truedata[\"text\"]"
      ],
      "metadata": {
        "id": "pLPeSsAP-tOL"
      },
      "execution_count": null,
      "outputs": []
    },
    {
      "cell_type": "code",
      "source": [
        "fakedata.tail()"
      ],
      "metadata": {
        "id": "KR0mqf6ooeCa"
      },
      "execution_count": null,
      "outputs": []
    },
    {
      "cell_type": "code",
      "source": [
        "truedata.tail()"
      ],
      "metadata": {
        "id": "rr4htsUtoeHK"
      },
      "execution_count": null,
      "outputs": []
    },
    {
      "cell_type": "code",
      "source": [
        "fakedata[\"class\"]=0\n",
        "truedata[\"class\"]= 1"
      ],
      "metadata": {
        "id": "_cadOaxpoeKn"
      },
      "execution_count": null,
      "outputs": []
    },
    {
      "cell_type": "code",
      "source": [
        "fakedata.shape"
      ],
      "metadata": {
        "id": "-0cZvt6ToeRp"
      },
      "execution_count": null,
      "outputs": []
    },
    {
      "cell_type": "code",
      "source": [
        "truedata.shape"
      ],
      "metadata": {
        "id": "n0vuw6hsoeUU"
      },
      "execution_count": null,
      "outputs": []
    },
    {
      "cell_type": "code",
      "source": [
        "fakedata_mannual_testing = fakedata.tail(10)\n",
        "for i in range(23480,23470,-1):\n",
        "    fakedata.drop([i],axis = 0, inplace = True)\n",
        "\n",
        "truedata_mannual_testing = truedata.tail(10)\n",
        "for i in range(21416,21406,-1):\n",
        "    truedata.drop([i],axis = 0, inplace = True)"
      ],
      "metadata": {
        "id": "n-YQE5C6qvZk"
      },
      "execution_count": null,
      "outputs": []
    },
    {
      "cell_type": "code",
      "source": [
        "fakedata_mannual_testing['class'] = 0\n",
        "truedata_mannual_testing['class'] = 1"
      ],
      "metadata": {
        "id": "9OWqi5hQoeXM"
      },
      "execution_count": null,
      "outputs": []
    },
    {
      "cell_type": "code",
      "source": [
        "fakedata_mannual_testing.head(10)"
      ],
      "metadata": {
        "id": "CQZO10g4oeZ9"
      },
      "execution_count": null,
      "outputs": []
    },
    {
      "cell_type": "code",
      "source": [
        "truedata_mannual_testing.head(10)"
      ],
      "metadata": {
        "id": "4xsTXCuFoecm"
      },
      "execution_count": null,
      "outputs": []
    },
    {
      "cell_type": "code",
      "source": [
        "merge = pd.concat([fakedata,truedata],axis = 0)\n",
        "merge.head(10)"
      ],
      "metadata": {
        "id": "W6SL0ayWoefe"
      },
      "execution_count": null,
      "outputs": []
    },
    {
      "cell_type": "code",
      "source": [
        "merge.columns"
      ],
      "metadata": {
        "id": "O32KmoOLoeiQ"
      },
      "execution_count": null,
      "outputs": []
    },
    {
      "cell_type": "code",
      "source": [
        "data = merge.drop(['title','subject','date'],axis = 1)"
      ],
      "metadata": {
        "id": "d3V6maOLoelI"
      },
      "execution_count": null,
      "outputs": []
    },
    {
      "cell_type": "code",
      "source": [
        "data.isnull().sum()"
      ],
      "metadata": {
        "id": "2xBms_qUoenp"
      },
      "execution_count": null,
      "outputs": []
    },
    {
      "cell_type": "code",
      "source": [
        "data = data.sample(frac = 1)"
      ],
      "metadata": {
        "id": "uTYomwi9oeqU"
      },
      "execution_count": null,
      "outputs": []
    },
    {
      "cell_type": "code",
      "source": [
        "data.head()"
      ],
      "metadata": {
        "id": "qyXlJuNIoetT"
      },
      "execution_count": null,
      "outputs": []
    },
    {
      "cell_type": "code",
      "source": [
        "data.reset_index(inplace = True)\n",
        "data.drop(['index'],axis = 1,inplace = True)"
      ],
      "metadata": {
        "id": "y5vh6UQ9oev_"
      },
      "execution_count": null,
      "outputs": []
    },
    {
      "cell_type": "code",
      "source": [
        "data.columns"
      ],
      "metadata": {
        "id": "AgvMcTjDoezf"
      },
      "execution_count": null,
      "outputs": []
    },
    {
      "cell_type": "code",
      "source": [
        "data.head()"
      ],
      "metadata": {
        "id": "_200f595ruof"
      },
      "execution_count": null,
      "outputs": []
    },
    {
      "cell_type": "code",
      "source": [
        "def wordopt(text):\n",
        "    text = text.lower()\n",
        "    text = re.sub('\\[.*?\\]','',text)\n",
        "    text = re.sub(\"\\\\W\",\" \",text)\n",
        "    text = re.sub('https?://\\S+|www\\.\\S+','',text)\n",
        "    text = re.sub('<.*?>+','',text)\n",
        "    text = re.sub('[%s]'%re.escape(string.punctuation),'',text)\n",
        "    text = re.sub('\\n','',text)\n",
        "    text = re.sub('\\w*\\d\\w*','',text)\n",
        "    return text"
      ],
      "metadata": {
        "id": "s06pBwzIrw68"
      },
      "execution_count": null,
      "outputs": []
    },
    {
      "cell_type": "code",
      "source": [
        "data['text']=data['text'].apply(wordopt)"
      ],
      "metadata": {
        "id": "Cu2YZUGer_MR"
      },
      "execution_count": null,
      "outputs": []
    },
    {
      "cell_type": "code",
      "source": [
        "x = data['text']\n",
        "y = data['class']"
      ],
      "metadata": {
        "id": "7eSJplOdsDOM"
      },
      "execution_count": null,
      "outputs": []
    },
    {
      "cell_type": "code",
      "source": [
        "x_train,x_test,y_train,y_test = train_test_split(x,y,test_size=0.25)"
      ],
      "metadata": {
        "id": "2mLKcikusMzC"
      },
      "execution_count": null,
      "outputs": []
    },
    {
      "cell_type": "code",
      "source": [
        "from sklearn.feature_extraction.text import TfidfVectorizer\n",
        "\n",
        "vectorization = TfidfVectorizer()\n",
        "xy_train = vectorization.fit_transform(x_train)\n",
        "xy_test = vectorization.transform(x_test)"
      ],
      "metadata": {
        "id": "YyQlCKiSsQnh"
      },
      "execution_count": null,
      "outputs": []
    },
    {
      "cell_type": "code",
      "source": [
        "from sklearn.linear_model import LogisticRegression\n",
        "reg = LogisticRegression()\n",
        "reg.fit(xy_train,y_train)"
      ],
      "metadata": {
        "id": "IE9ODeDosS5-"
      },
      "execution_count": null,
      "outputs": []
    },
    {
      "cell_type": "code",
      "source": [
        "pred1 = reg.predict(xy_test)"
      ],
      "metadata": {
        "id": "c9Og6MK1seMy"
      },
      "execution_count": null,
      "outputs": []
    },
    {
      "cell_type": "code",
      "source": [
        "reg.score(xy_test,y_test)"
      ],
      "metadata": {
        "id": "Bk7hujAGskOg"
      },
      "execution_count": null,
      "outputs": []
    },
    {
      "cell_type": "code",
      "source": [
        "print(classification_report(y_test,pred1))"
      ],
      "metadata": {
        "id": "xtTvwxCDsmZm"
      },
      "execution_count": null,
      "outputs": []
    },
    {
      "cell_type": "code",
      "source": [
        "from sklearn.ensemble import GradientBoostingClassifier\n",
        "gb = GradientBoostingClassifier(random_state = 0)\n",
        "gb.fit(xy_train,y_train)"
      ],
      "metadata": {
        "id": "98tqf4hPsqI4"
      },
      "execution_count": null,
      "outputs": []
    },
    {
      "cell_type": "code",
      "source": [
        "predgb = gb.predict(xy_test)"
      ],
      "metadata": {
        "id": "KNUESyWzwHKC"
      },
      "execution_count": null,
      "outputs": []
    },
    {
      "cell_type": "code",
      "source": [
        "gb.score(xy_test,y_test)"
      ],
      "metadata": {
        "id": "5tKccb6kwHHd"
      },
      "execution_count": null,
      "outputs": []
    },
    {
      "cell_type": "code",
      "source": [
        "print(classification_report(y_test,predgb))"
      ],
      "metadata": {
        "id": "7eyirEWLwHFN"
      },
      "execution_count": null,
      "outputs": []
    },
    {
      "cell_type": "code",
      "source": [
        "from sklearn.tree import DecisionTreeClassifier\n",
        "decision = DecisionTreeClassifier()\n",
        "decision.fit(xy_train,y_train)"
      ],
      "metadata": {
        "id": "U9YRcyKHwHC0"
      },
      "execution_count": null,
      "outputs": []
    },
    {
      "cell_type": "code",
      "source": [
        "pred = decision.predict(xy_test)"
      ],
      "metadata": {
        "id": "Bi1DN7zuwHAU"
      },
      "execution_count": null,
      "outputs": []
    },
    {
      "cell_type": "code",
      "source": [
        "decision.score(xy_test,y_test)"
      ],
      "metadata": {
        "id": "q2IV8NdpwG9u"
      },
      "execution_count": null,
      "outputs": []
    },
    {
      "cell_type": "code",
      "source": [
        "print(classification_report(y_test,pred))"
      ],
      "metadata": {
        "id": "NN-0xFDbwG7W"
      },
      "execution_count": null,
      "outputs": []
    },
    {
      "cell_type": "code",
      "source": [
        "from sklearn.ensemble import RandomForestClassifier\n",
        "rf = RandomForestClassifier(random_state = 0)\n",
        "rf.fit(xy_train,y_train)"
      ],
      "metadata": {
        "id": "DcW1fp_LwG4p"
      },
      "execution_count": null,
      "outputs": []
    },
    {
      "cell_type": "code",
      "source": [
        "predrf = rf.predict(xy_test)"
      ],
      "metadata": {
        "id": "GAPf9SZw2HOR"
      },
      "execution_count": null,
      "outputs": []
    },
    {
      "cell_type": "code",
      "source": [
        "rf.score(xy_test,y_test)"
      ],
      "metadata": {
        "id": "J21ovdj6wG13"
      },
      "execution_count": null,
      "outputs": []
    },
    {
      "cell_type": "code",
      "source": [
        "print(classification_report(y_test,predrf))"
      ],
      "metadata": {
        "id": "QgXBqQCQwGvz"
      },
      "execution_count": null,
      "outputs": []
    },
    {
      "cell_type": "code",
      "source": [
        "def output_lable(n):\n",
        "    if n==0:\n",
        "        return \"Fake News\"\n",
        "    elif n==1:\n",
        "        return \"True News\"\n",
        "\n",
        "\n",
        "def mannual_testing(news):\n",
        "    testing_news = {\"text\":[news]}\n",
        "    new_def_test = pd.DataFrame(testing_news)\n",
        "    new_def_test[\"text\"] = new_def_test[\"text\"].apply(wordopt)\n",
        "    new_x_test = new_def_test[\"text\"]\n",
        "    new_xy_test = vectorization.transform(new_x_test)\n",
        "    pred1 = reg.predict(new_xy_test)\n",
        "    pred = decision.predict(new_xy_test)\n",
        "    predgb = gb.predict(new_xy_test)\n",
        "    predrf = rf.predict(new_xy_test)\n",
        "\n",
        "    return print(\"\\n\\nLR Prediction: {} \\nDT Prediction: {}\".format(output_lable(pred1[0]),\n",
        "                                                          output_lable(pred[0])))\n"
      ],
      "metadata": {
        "id": "6XDH63IMwGke"
      },
      "execution_count": null,
      "outputs": []
    },
    {
      "cell_type": "code",
      "source": [
        "news = str(input())\n",
        "mannual_testing(news)"
      ],
      "metadata": {
        "id": "ygJuCcW4tUGN"
      },
      "execution_count": null,
      "outputs": []
    },
    {
      "cell_type": "code",
      "source": [
        "news = str(input())\n",
        "mannual_testing(news)"
      ],
      "metadata": {
        "id": "T34fMpCUwGRP"
      },
      "execution_count": null,
      "outputs": []
    },
    {
      "cell_type": "code",
      "source": [],
      "metadata": {
        "id": "-xuAzQTM56v2"
      },
      "execution_count": null,
      "outputs": []
    }
  ]
}